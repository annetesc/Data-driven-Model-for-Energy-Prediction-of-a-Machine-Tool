{
 "cells": [
  {
   "cell_type": "code",
   "execution_count": null,
   "metadata": {},
   "outputs": [],
   "source": [
    "import numpy as np\n",
    "import pandas as pd\n",
    "from datetime import timedelta\n",
    "from functools import reduce\n",
    "import os\n",
    "%matplotlib inline\n",
    "import matplotlib\n",
    "import matplotlib.image as mpimg\n",
    "import matplotlib.pyplot as plt\n",
    "import seaborn as sns\n",
    "plt.style.use('seaborn-whitegrid')\n",
    "\n",
    "PROJECT_ROOT_DIR = \"C:/Users/signa/_Relkat/\"\n",
    "#STEP = \"data_selection\"\n",
    "IMAGES_PATH = os.path.join(PROJECT_ROOT_DIR, \"plots\")\n",
    "\n",
    "def save_fig(fig_id, tight_layout=True, fig_extension=\"pdf\", resolution=500):\n",
    "    path = os.path.join(IMAGES_PATH, fig_id + \".\" + fig_extension)\n",
    "    print(\"Saving figure\", fig_id)\n",
    "    if tight_layout:\n",
    "        plt.tight_layout()\n",
    "    plt.savefig(path, format=fig_extension, dpi=resolution) "
   ]
  },
  {
   "cell_type": "code",
   "execution_count": null,
   "metadata": {},
   "outputs": [],
   "source": [
    "date = \"28.04\"\n",
    "orig_folder = 'C:/Users/signa/_Relkat/data/data_csv/'+date+\"/\"\n",
    "dest_folder = 'C:/Users/signa/_Relkat/data/data_csv/'+date+\"/plots\"\n",
    "print(date)"
   ]
  },
  {
   "cell_type": "code",
   "execution_count": null,
   "metadata": {},
   "outputs": [],
   "source": [
    "MD = pd.read_csv(os.path.join(orig_folder,'MD_Temperaturen_'+date+'.csv'),index_col = 0)\n",
    "print('loading',os.path.join(orig_folder,'MD_Temperaturen_'+date+'.csv'))\n",
    "print('number of data points: ',MD.shape[0])\n",
    "MD.reset_index(drop=True,inplace=True)"
   ]
  },
  {
   "cell_type": "code",
   "execution_count": null,
   "metadata": {},
   "outputs": [],
   "source": [
    "pd.set_option('display.max_rows', 700)\n",
    "MD.drop(['uuid','plc_time','sequence_number','value_string','value_bytes','identifier'],axis=1,inplace=True)\n",
    "\n",
    "MD['start_cycle'] = np.datetime64('NaT')\n",
    "MD['end_cycle'] = np.datetime64('NaT')\n",
    "MD['end_cycle'] = np.where((MD['label'].str.contains('Taktzeit 1 Start '))&(MD['value_bool']==False),MD['sys_time'],np.datetime64('NaT'))\n",
    "MD.loc[(MD['value_bool']==True),\"start_cycle\"] = MD['sys_time']\n",
    "MD['cycle'] = MD['value_bool'][~MD['start_cycle'].isnull()]*np.array([i for i in range(MD['start_cycle'].nunique())])\n",
    "MD.sort_values(by=['sys_time'],inplace=True)\n",
    "MD['cycle'].fillna(method='ffill',inplace=True)\n",
    "\n",
    "# MD['sys_time'] = MD['sys_time'].astype('datetime64[s]')"
   ]
  },
  {
   "cell_type": "code",
   "execution_count": null,
   "metadata": {},
   "outputs": [],
   "source": [
    "features = ['Kühlaggregat: Themperatur Rücklauf Maschine in °C (DB_PROZESSWERTE.iw_130_92 )','Kühlaggregat: Themperatur Vorlauf Maschine in °C (DB_PROZESSWERTE.iw_130_91 )']\n",
    "features"
   ]
  },
  {
   "cell_type": "code",
   "execution_count": null,
   "metadata": {},
   "outputs": [],
   "source": [
    "MD.head(10)"
   ]
  },
  {
   "cell_type": "code",
   "execution_count": null,
   "metadata": {},
   "outputs": [],
   "source": [
    "df_features = []\n",
    "for feature in features:\n",
    "    df_feature = MD[MD['label']==feature][['sys_time','value_integer','value_double']]\n",
    "    df_feature[feature] = np.where(df_feature['value_integer'].isnull(),df_feature['value_double'],df_feature['value_integer'])\n",
    "    df_feature.drop(['value_integer','value_double'],axis=1,inplace=True)\n",
    "    df_features.append(df_feature)"
   ]
  },
  {
   "cell_type": "code",
   "execution_count": null,
   "metadata": {},
   "outputs": [],
   "source": [
    "df_MD = reduce(lambda left,right: pd.merge(left,right,on=['sys_time'],how='outer'), df_features)"
   ]
  },
  {
   "cell_type": "code",
   "execution_count": null,
   "metadata": {},
   "outputs": [],
   "source": [
    "df_MD.head()"
   ]
  },
  {
   "cell_type": "code",
   "execution_count": null,
   "metadata": {},
   "outputs": [],
   "source": [
    "pd.set_option('display.max_rows', 1000)\n",
    "df_MD.set_index('sys_time',inplace=True)\n",
    "df_MD = df_MD.resample('s').mean()\n",
    "df_MD.reset_index(inplace=True,drop=False)\n",
    "df_MD.head(300)"
   ]
  },
  {
   "cell_type": "code",
   "execution_count": null,
   "metadata": {},
   "outputs": [],
   "source": [
    "MD = MD[['sys_time','cycle']]\n",
    "MD.drop_duplicates(subset='sys_time',inplace=True)\n",
    "MD.reset_index(drop=True,inplace=True)\n",
    "df_MD = pd.merge(MD,df_MD, on='sys_time',how='inner')\n",
    "df_MD"
   ]
  },
  {
   "cell_type": "code",
   "execution_count": null,
   "metadata": {},
   "outputs": [],
   "source": [
    "MD_2 = pd.read_csv(os.path.join(orig_folder,'MD_'+date+'.csv'),index_col = 0)\n",
    "print('loading',os.path.join(orig_folder,'MD_'+date+'.csv'))\n",
    "print('number of data points: ',MD_2.shape[0])\n",
    "MD_2.reset_index(drop=True,inplace=True)"
   ]
  },
  {
   "cell_type": "code",
   "execution_count": null,
   "metadata": {},
   "outputs": [],
   "source": [
    "pd.set_option('display.max_rows', 700)\n",
    "MD_2.drop(['uuid','plc_time','sequence_number','value_string','value_bytes','identifier'],axis=1,inplace=True)\n",
    "MD_2['sys_time'] = MD_2['sys_time'].apply(lambda x: pd.to_datetime(x))\n",
    "MD_2['sys_time'] = MD_2['sys_time'].apply(lambda x: x.tz_localize(None))\n",
    "MD_2.sort_values(by=['sys_time'],inplace=True)\n",
    "MD_2.reset_index(inplace=True,drop=True)\n",
    "MD_2"
   ]
  },
  {
   "cell_type": "code",
   "execution_count": null,
   "metadata": {},
   "outputs": [],
   "source": [
    "features_2 = list(MD_2['label'].unique())[1:]\n",
    "features_2 = ['(DB_KÜHLMITTEL.Sollwert )',\n",
    " 'Hydraulik: externe Sollwert-Vorgabe (mow_210_01 )',\n",
    " '(DB_KÜHLMITTEL_HOCHDRUCK.Sollwert )']"
   ]
  },
  {
   "cell_type": "code",
   "execution_count": null,
   "metadata": {},
   "outputs": [],
   "source": [
    "df_features_2 = []\n",
    "for feature_2 in features_2:\n",
    "    df_feature_2 = MD_2[MD_2['label']==feature_2][['sys_time','value_integer','value_double']]\n",
    "    df_feature_2[feature_2] = np.where(df_feature_2['value_integer'].isnull(),df_feature_2['value_double'],df_feature_2['value_integer'])\n",
    "    df_feature_2.drop(['value_integer','value_double'],axis=1,inplace=True)\n",
    "    df_features_2.append(df_feature_2)"
   ]
  },
  {
   "cell_type": "code",
   "execution_count": null,
   "metadata": {},
   "outputs": [],
   "source": [
    "df_MD_2 = reduce(lambda left,right: pd.merge(left,right,on=['sys_time'],how='outer'), df_features_2)"
   ]
  },
  {
   "cell_type": "code",
   "execution_count": null,
   "metadata": {},
   "outputs": [],
   "source": [
    "pd.set_option('display.max_rows', 1000)\n",
    "df_MD_2.head(1000)"
   ]
  },
  {
   "cell_type": "code",
   "execution_count": null,
   "metadata": {},
   "outputs": [],
   "source": [
    "pd.set_option('display.max_rows', 1000)\n",
    "df_MD_2.set_index('sys_time',inplace=True)\n",
    "df_MD_2 = df_MD_2.resample('s').mean()\n",
    "df_MD_2.reset_index(inplace=True,drop=False)\n",
    "df_MD_2.head(300)"
   ]
  },
  {
   "cell_type": "code",
   "execution_count": null,
   "metadata": {},
   "outputs": [],
   "source": [
    "df_MD_3 = pd.merge(df_MD,df_MD_2, on='sys_time',how='outer')\n",
    "df_MD_3.head(200)"
   ]
  },
  {
   "cell_type": "code",
   "execution_count": null,
   "metadata": {},
   "outputs": [],
   "source": [
    "MD_3 = pd.read_csv(os.path.join(orig_folder,'MD_Durchfluss_'+date+'.csv'),index_col = 0)\n",
    "print('loading',os.path.join(orig_folder,'MD_Durchfluss_'+date+'.csv'))\n",
    "print('number of data points: ',MD_3.shape[0])\n",
    "MD_3.reset_index(drop=True,inplace=True)"
   ]
  },
  {
   "cell_type": "code",
   "execution_count": null,
   "metadata": {},
   "outputs": [],
   "source": [
    "pd.set_option('display.max_rows', 700)\n",
    "MD_3.drop(['uuid','plc_time','sequence_number','value_string','value_bytes','identifier'],axis=1,inplace=True)\n",
    "MD_3['sys_time'] = MD_3['sys_time'].apply(lambda x: pd.to_datetime(x))\n",
    "MD_3['sys_time'] = MD_3['sys_time'].apply(lambda x: x.tz_localize(None))\n",
    "MD_3['sys_time'] = MD_3['sys_time'].astype('datetime64[s]')\n",
    "MD_3.sort_values(by=['sys_time'],inplace=True)\n",
    "MD_3.head(10)"
   ]
  },
  {
   "cell_type": "code",
   "execution_count": null,
   "metadata": {},
   "outputs": [],
   "source": [
    "#features_3 = list(MD_3['label'].unique())\n",
    "#MD_3.reset_index(drop=True,inplace=True)\n",
    "features_3 = ['Kühlschmierstoff: Durchfluss ND Vorlauf  in l/min (DB_PROZESSWERTE.iw_450_93 )','Kühlschmierstoff: Durchfluss HD Vorlauf in l/min (DB_PROZESSWERTE.iw_450_92 )']"
   ]
  },
  {
   "cell_type": "code",
   "execution_count": null,
   "metadata": {},
   "outputs": [],
   "source": [
    "df_features_3 = []\n",
    "for feature_3 in features_3:\n",
    "    df_feature_3 = MD_3[MD_3['label']==feature_3][['sys_time','value_integer','value_double']]\n",
    "    df_feature_3[feature_3] = np.where(df_feature_3['value_integer'].isnull(),df_feature_3['value_double'],df_feature_3['value_integer'])\n",
    "    df_feature_3.drop(['value_integer','value_double'],axis=1,inplace=True)\n",
    "    df_features_3.append(df_feature_3)"
   ]
  },
  {
   "cell_type": "code",
   "execution_count": null,
   "metadata": {},
   "outputs": [],
   "source": [
    "df_MD_4 = reduce(lambda left,right: pd.merge(left,right,on=['sys_time'],how='outer'), df_features_3)"
   ]
  },
  {
   "cell_type": "code",
   "execution_count": null,
   "metadata": {},
   "outputs": [],
   "source": [
    "pd.set_option('display.max_rows', 1000)\n",
    "df_MD_4.set_index('sys_time',inplace=True)\n",
    "df_MD_4 = df_MD_4.resample('s').mean()\n",
    "df_MD_4.head(300)"
   ]
  },
  {
   "cell_type": "code",
   "execution_count": null,
   "metadata": {},
   "outputs": [],
   "source": [
    "pd.set_option('display.max_rows', 1000)\n",
    "print(df_MD_5.shape)\n",
    "df_MD_5[10000:11000]"
   ]
  },
  {
   "cell_type": "code",
   "execution_count": null,
   "metadata": {},
   "outputs": [],
   "source": [
    "df_MD_5 = pd.merge(df_MD_3,df_MD_4, on='sys_time',how='outer')\n",
    "df_MD_5['cycle'].fillna(method='ffill',inplace=True)\n",
    "df_MD_5['cycle'] = df_MD_5['cycle'].astype(int)"
   ]
  },
  {
   "cell_type": "code",
   "execution_count": null,
   "metadata": {},
   "outputs": [],
   "source": [
    "df_MD_5['Temperatur_Differenz_Kühlaggregat_Vorlauf_Rücklauf in °C'] = df_MD_5['Kühlaggregat: Themperatur Rücklauf Maschine in °C (DB_PROZESSWERTE.iw_130_92 )'] - df_MD_5['Kühlaggregat: Themperatur Vorlauf Maschine in °C (DB_PROZESSWERTE.iw_130_91 )']\n",
    "df_MD_5.head(200)"
   ]
  },
  {
   "cell_type": "code",
   "execution_count": null,
   "metadata": {},
   "outputs": [],
   "source": [
    "df_MD_5.to_csv(os.path.join(orig_folder,'feature_table_'+date+'.csv'))"
   ]
  },
  {
   "cell_type": "code",
   "execution_count": null,
   "metadata": {},
   "outputs": [],
   "source": [
    "features = list(df_MD_5.columns[2:-3])\n",
    "#df_MD_5['Kühlaggregat: Themperatur Rücklauf Maschine (mib_130_92 )'].hist()\n",
    "features"
   ]
  },
  {
   "cell_type": "code",
   "execution_count": null,
   "metadata": {},
   "outputs": [],
   "source": [
    "MD_feature_table = pd.read_csv(os.path.join(orig_folder,'feature_table_'+date+'.csv'))"
   ]
  },
  {
   "cell_type": "code",
   "execution_count": null,
   "metadata": {},
   "outputs": [],
   "source": [
    "def format_axis(ax, color):    \n",
    "    for t in ax.get_yticklabels():\n",
    "        t.set_color(color)\n",
    "    ax.yaxis.label.set_color(color)\n",
    "    return None\n",
    "\n",
    "def plotFeat(df,cycle,feature_list,ax,offset):    \n",
    "      \n",
    "    df_grouped = df[df['cycle']== cycle].reset_index() \n",
    "      \n",
    "    format_axis(ax, 'k')     \n",
    "    \n",
    "    colors = ['darkorange','gold','lime','deeppink','midnightblue','red','black','blue','dodgerblue']\n",
    "    \n",
    "    for i in range(len(feature_list)):\n",
    "        feature = df_grouped[feature_list[i]]\n",
    "        ax.plot(feature,  color=colors[i+offset], marker='o',label = feature_list[i])   \n",
    "\n",
    "    return ax "
   ]
  },
  {
   "cell_type": "code",
   "execution_count": null,
   "metadata": {},
   "outputs": [],
   "source": [
    "def aggregateFeat(df,cycle,feature_list):      \n",
    "      \n",
    "    fig, axes = plt.subplots(nrows=2,ncols=1,figsize=(36, 40))\n",
    "    plt.title('Cycle: {0} '.format(cycle),fontsize=40)\n",
    "    ax1 = axes[0]\n",
    "    ax1.set_title('Temperaturverläufe Versuche 28.4.2021', fontsize=40)\n",
    "    ax1.set_xlabel('time/sec',fontsize=30)\n",
    "    ax1.set_ylabel('°C/min',fontsize=30)\n",
    "    ax1.tick_params(axis='x', labelsize=25)\n",
    "    ax1.tick_params(axis='y', labelsize=25) \n",
    "    \n",
    "    Hyd,KSS,KSS_HD = np.array(df[df['cycle']==cycle]['Hydraulik: externe Sollwert-Vorgabe (mow_210_01 )'])[0],\\\n",
    "                     np.array(df[df['cycle']==cycle]['(DB_KÜHLMITTEL.Sollwert )'])[0],\\\n",
    "                     np.array(df[df['cycle']==cycle]['(DB_KÜHLMITTEL_HOCHDRUCK.Sollwert )'])[0]\n",
    "    \n",
    "    delta_max  = np.array(df[df['cycle']==cycle]['Temperatur_Differenz_Kühlaggregat_Vorlauf_Rücklauf in °C']).max()\n",
    "    delta_mean = np.array(df[df['cycle']==cycle]['Temperatur_Differenz_Kühlaggregat_Vorlauf_Rücklauf in °C']).mean()\n",
    "    \n",
    "    textstr = r'cycle: ' ' %.0f\\nStellgrößen\\nHyd: %.0f\\nKSS: %.0f\\nKSS_HD: %.0f\\nδ Kühlaggregat max: %.2f\\nδ Kühlaggregat mean: %.2f'\\\n",
    "        %(cycle,Hyd,KSS,KSS_HD,delta_max,delta_mean)\n",
    "    ax1.text(12,12,textstr,fontsize=35, \n",
    "    bbox={'facecolor':'gray', 'alpha':0.1, 'pad':10})\n",
    "                           \n",
    "    plotFeat(df,cycle,feature_list[:7],ax1,offset=0)  \n",
    "\n",
    "    handles, labels = ax1.get_legend_handles_labels()\n",
    "    ax1.legend(handles, labels,prop={'size': 23})\n",
    "   \n",
    "    ax2 = axes[1]\n",
    "    ax2.set_title('Durchflussgrößen Versuche 28.4.2021', fontsize=40)\n",
    "    ax2.set_xlabel('time/ sec',fontsize=30)\n",
    "    ax2.set_ylabel('l / min',fontsize=30)\n",
    "    ax2.tick_params(axis='x', labelsize=25)\n",
    "    ax2.tick_params(axis='y', labelsize=25) \n",
    "        \n",
    "    \n",
    "    plotFeat(df,cycle,feature_list[7:],ax2,offset=7)  \n",
    "\n",
    "    handles, labels = ax2.get_legend_handles_labels()\n",
    "    ax2.legend(handles, labels,prop={'size': 23})    \n",
    "   \n",
    "    \n",
    "    return"
   ]
  },
  {
   "cell_type": "code",
   "execution_count": null,
   "metadata": {},
   "outputs": [],
   "source": [
    "#######ENTER CYCLE###############################################################################################\n",
    "\n",
    "cycle = 62\n",
    "\n",
    "feature_1  = 'Kühlschmierstoff: Temperatur Vorlauf in °C (DB_PROZESSWERTE.iw_450_90 )' #\n",
    "feature_2  = 'Kühlschmierstoff: Temperatur Spänebehälter in °C (DB_PROZESSWERTE.iw_450_91 )'#\n",
    "feature_3  = 'Temperatur_Differenz_Kühlaggregat_Vorlauf_Rücklauf in °C'\n",
    "\n",
    "\n",
    "feature_4  = 'Kühlaggregat: Themperatur Vorlauf Maschine in °C (DB_PROZESSWERTE.iw_130_91 )'\n",
    "feature_5  = 'Kühlaggregat: Themperatur Rücklauf Maschine in °C (DB_PROZESSWERTE.iw_130_92 )'\n",
    "\n",
    "feature_6  = 'Maschinenraum: Temperatur in °C (DB_PROZESSWERTE.iw_577_02 )'\n",
    "feature_7  = 'Hydraulik: Temperatur in °C (DB_PROZESSWERTE.iw_210_01 )'\n",
    "\n",
    "feature_8  = 'Kühlschmierstoff: Durchfluss ND Vorlauf  in l/min (DB_PROZESSWERTE.iw_450_93 )'\n",
    "feature_9 = 'Kühlschmierstoff: Durchfluss HD Vorlauf in l/min (DB_PROZESSWERTE.iw_450_92 )'\n",
    "\n",
    "\n",
    "feature_list = [feature_1,feature_2,feature_3,feature_4,feature_5,feature_6,feature_7,feature_8,feature_9]\n",
    "fig = aggregateFeat(df_MD_5,cycle,feature_list)\n",
    "#save_fig('Features for cycle_{0} '.format(cycle))"
   ]
  },
  {
   "cell_type": "code",
   "execution_count": null,
   "metadata": {},
   "outputs": [],
   "source": [
    "fig = plt.figure(figsize=(25, 14))\n",
    "ax1 = plt.subplot(5,1,1)\n",
    "plt.xticks(np.arange(0,93,1))\n",
    "plt.plot(d_agg_en['cycle'],d_agg_en['max'], label=\"Max. Differenz in °C Kühlaggregat\",color='red')\n",
    "plt.plot(d_agg_en['cycle'],d_agg_en['mean'],label=\"Mittlere Differenz in °C Kühlaggregat\",color='orange')\n",
    "plt.legend(fontsize=20)\n",
    "ax1.set_xlabel('Takt',fontsize=20)\n",
    "\n",
    "ax2 = plt.subplot(5,1,2,sharex=ax1)\n",
    "plt.xticks(np.arange(0,93,1))\n",
    "plt.plot(d_agg_en['cycle'],d_agg_en['energy_total'], label=\"Summe Energieverbrauch in kWh\",color='mediumblue')\n",
    "plt.legend(fontsize=20)\n",
    "\n",
    "ax3 = plt.subplot(5,1,3,sharex=ax2)\n",
    "plt.xticks(np.arange(0,93,1))\n",
    "plt.plot(d_agg_en['cycle'],d_agg_en['Hyd'], label=\"Hyd\",color='black')\n",
    "plt.legend(fontsize=20)\n",
    "\n",
    "ax4 = plt.subplot(5,1,4,sharex=ax3)\n",
    "plt.xticks(np.arange(0,93,1))\n",
    "plt.plot(d_agg_en['cycle'],d_agg_en['KSS'], label=\"KSS\",color='darkslategray')\n",
    "plt.legend(fontsize=20)\n",
    "\n",
    "ax5 = plt.subplot(5,1,5,sharex=ax4)\n",
    "plt.xticks(np.arange(0,93,1))\n",
    "plt.plot(d_agg_en['cycle'],d_agg_en['KSS_HD'], label=\"KSS_HD\",color='gray')\n",
    "plt.legend(fontsize=20)\n",
    "fig = save_fig('Temperaturdifferenz_Kuehlaggregat_VL_RL_28.04.2021')"
   ]
  },
  {
   "cell_type": "code",
   "execution_count": null,
   "metadata": {},
   "outputs": [],
   "source": []
  },
  {
   "cell_type": "code",
   "execution_count": null,
   "metadata": {},
   "outputs": [],
   "source": [
    "d_agg = df_MD_5.groupby(['cycle'])['Temperatur_Differenz_Kühlaggregat_Vorlauf_Rücklauf in °C'].aggregate([max,np.mean])\n",
    "d_agg.reset_index(inplace=True)"
   ]
  },
  {
   "cell_type": "code",
   "execution_count": null,
   "metadata": {},
   "outputs": [],
   "source": [
    "# data_28_4 = pd.read_csv('C:/Users/signa/_Relkat/data/data_csv/28.04/28.04_total_reduced.csv',index_col=0)\n",
    "# data_28_4['sys_time'] = data_28_4['start_time'].astype('datetime64[s]')\n",
    "# df_merge = pd.merge(data_28_4,df_MD_5,on='sys_time',how='inner')\n",
    "df_en = df_merge[['cycle','energy_total','Hyd','KSS','KSS_HD']]\n",
    "d_agg_en = pd.merge(d_agg,df_en,on='cycle',how='outer')\n",
    "d_agg_en"
   ]
  },
  {
   "cell_type": "code",
   "execution_count": null,
   "metadata": {},
   "outputs": [],
   "source": [
    "pd.set_option('display.max_rows', 1000)\n",
    "df_merge.loc[0,'cycle']=1\n",
    "df_merge.loc[7,'cycle']=11\n",
    "df_merge.loc[14,'cycle']=18\n",
    "df_merge.loc[15,'cycle']=19\n",
    "df_merge.loc[16,'cycle']=20\n",
    "df_merge.loc[20,'cycle']=24\n",
    "df_merge.loc[21,'cycle']=25\n",
    "df_merge.loc[22,'cycle']=26\n",
    "df_merge.loc[26,'cycle']=30\n",
    "\n",
    "df_merge.loc[38,'cycle']=42\n",
    "df_merge.loc[39,'cycle']=43\n",
    "df_merge.loc[42,'cycle']=46\n",
    "df_merge.loc[43,'cycle']=47\n",
    "df_merge.loc[44,'cycle']=48\n",
    "df_merge.loc[45,'cycle']=49\n",
    "df_merge.loc[52,'cycle']=58\n",
    "df_merge.loc[56,'cycle']=62\n",
    "df_merge.loc[58,'cycle']=64\n",
    "df_merge.loc[62,'cycle']=68\n",
    "df_merge.loc[69,'cycle']=75\n",
    "df_merge.loc[76,'cycle']=82"
   ]
  },
  {
   "cell_type": "code",
   "execution_count": null,
   "metadata": {},
   "outputs": [],
   "source": [
    "d_agg_en.to_csv(os.path.join(orig_folder,'d_agg_plot_'+date+'.csv'))"
   ]
  },
  {
   "cell_type": "code",
   "execution_count": null,
   "metadata": {},
   "outputs": [],
   "source": []
  }
 ],
 "metadata": {
  "kernelspec": {
   "display_name": "Python 3",
   "language": "python",
   "name": "python3"
  },
  "language_info": {
   "codemirror_mode": {
    "name": "ipython",
    "version": 3
   },
   "file_extension": ".py",
   "mimetype": "text/x-python",
   "name": "python",
   "nbconvert_exporter": "python",
   "pygments_lexer": "ipython3",
   "version": "3.8.8"
  }
 },
 "nbformat": 4,
 "nbformat_minor": 4
}
