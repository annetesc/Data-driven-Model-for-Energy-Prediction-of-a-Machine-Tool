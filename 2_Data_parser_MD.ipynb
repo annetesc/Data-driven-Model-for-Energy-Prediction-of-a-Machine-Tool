{
 "cells": [
  {
   "cell_type": "code",
   "execution_count": null,
   "id": "6538b0f0",
   "metadata": {},
   "outputs": [],
   "source": [
    "import os\n",
    "import numpy as np\n",
    "from datetime import datetime as dt\n",
    "import datetime\n",
    "from datetime import timedelta\n",
    "import pandas as pd\n",
    "from matplotlib import pyplot as plt\n",
    "import seaborn as sms\n",
    "import csv\n",
    "import re"
   ]
  },
  {
   "cell_type": "code",
   "execution_count": null,
   "id": "b57086db",
   "metadata": {},
   "outputs": [],
   "source": [
    "date = \"28.04\"\n",
    "orig_folder = 'C:/Users/signa/_Relkat/data/data_csv/'+date+\"/\"\n",
    "dest_folder = 'C:/Users/signa/_Relkat/data/data_csv/'+date+\"/\"\n",
    "energy_folder = 'C:/Users/signa/_Relkat/data/Versuche/Versuche '+date+'/'\n",
    "print(date)"
   ]
  },
  {
   "cell_type": "code",
   "execution_count": null,
   "id": "a216e60b",
   "metadata": {},
   "outputs": [],
   "source": [
    "MD = pd.read_csv('C:/Users/signa/_Relkat/data/data_csv/'+date+\"/MD_\"+date+\".csv\",index_col = 0)\n",
    "print(MD.shape[0])"
   ]
  },
  {
   "cell_type": "markdown",
   "id": "0ea9bce4",
   "metadata": {},
   "source": [
    "1. Herausfiltern der betrachteten Größen Hyd, KSS, KSS_HD in eigene Dataframes\n",
    "- wichtig: schneller Code durch vektorisierte (spaltenweise) Programmierung (möglichst!) ohne Loops "
   ]
  },
  {
   "cell_type": "code",
   "execution_count": null,
   "id": "dc8a79e0",
   "metadata": {},
   "outputs": [],
   "source": [
    "pd.set_option('display.max_rows', 70000)\n",
    "MD = pd.read_csv('C:/Users/signa/_Relkat/data/data_csv/'+date+\"/MD_\"+date+\".csv\",index_col = 0)\n",
    "MD.drop(['uuid','plc_time','sequence_number','value_string','value_bytes','identifier'],axis=1,inplace=True)\n",
    "MD.rename(columns={'value_integer':'Hyd','value_double':'KSS'},inplace=True)\n",
    "MD['KSS_HD'] = MD['KSS']\n",
    "MD['sys_time'] = MD['sys_time'].apply(lambda x: pd.to_datetime(x))\n",
    "MD['sys_time'] = MD['sys_time'].apply(lambda x: x.tz_localize(None))\n",
    "MD.reset_index(drop=True,inplace=True)\n",
    "KSS_HD_filter = re.compile(\"(DB_KÜHLMITTEL_HOCHDRUCK)\")\n",
    "MD.loc[~MD['label'].str.contains(KSS_HD_filter),\"KSS_HD\"] = np.nan\n",
    "MD.loc[MD['label'].str.contains(KSS_HD_filter),\"KSS\"] = np.nan\n",
    "\n",
    "MD"
   ]
  },
  {
   "cell_type": "code",
   "execution_count": null,
   "id": "f54b84e6",
   "metadata": {},
   "outputs": [],
   "source": [
    "MD_Hyd = MD[MD['label'].str.contains('Hydraulik')]\n",
    "MD_Hyd.reset_index(drop=True,inplace=True)\n",
    "MD_red = MD[~MD['label'].str.contains('Hydraulik')]\n",
    "print(MD_red.shape)\n",
    "MD_KSS_HD = MD_red[MD_red['label'].str.contains(KSS_HD_filter)]\n",
    "MD_KSS_HD.reset_index(drop=True,inplace=True)\n",
    "MD_red = MD_red[~MD_red['label'].str.contains(KSS_HD_filter)]\n",
    "print(MD_red.shape)\n",
    "MD.loc[~MD['label'].str.contains(KSS_HD_filter),\"KSS_HD\"] = np.nan\n",
    "MD_red.reset_index(inplace=True,drop=True)\n",
    "MD_KSS = MD_red[MD_red['label'].str.contains('DB_KÜHLMITTEL.Sollwert ')]\n",
    "MD_KSS.reset_index(drop=True,inplace=True)\n",
    "MD_red = MD_red[~MD_red['label'].str.contains('DB_KÜHLMITTEL.Sollwert ')]\n",
    "MD_red.reset_index(drop=True,inplace=True)\n",
    "print(MD_red.shape)"
   ]
  },
  {
   "cell_type": "markdown",
   "id": "18bcb055",
   "metadata": {},
   "source": [
    "2. Aggregrierung der Maschinendaten auf Taktebene\n",
    "- Bestimmung von Taktstart und Taktende das entsprechende Label (\"Taktzeit 1 Start\") und den entsprechenden boolschen Wert (True: Start, False: Stop)\n",
    "- Erzeugung von einer Spalte für jede Größe, so dass ein Sample Taktstart, -ende und -dauer, sowie Sollwerte der drei voreingestellten Stellgrößen enthält;"
   ]
  },
  {
   "cell_type": "code",
   "execution_count": null,
   "id": "dbe2176e",
   "metadata": {},
   "outputs": [],
   "source": [
    "MD_red['start_time'] = np.datetime64('NaT')\n",
    "MD_red['end_time'] = np.datetime64('NaT')\n",
    "MD_red.loc[(MD_red['value_bool']==False),\"end_time\"] = MD_red['sys_time']\n",
    "MD_red.loc[(MD_red['value_bool']==True),\"start_time\"] = MD_red['sys_time']\n",
    "MD_red = MD_red[['sys_time','start_time','end_time','value_bool']]\n",
    "MD_red"
   ]
  },
  {
   "cell_type": "code",
   "execution_count": null,
   "id": "75e17a91",
   "metadata": {},
   "outputs": [],
   "source": [
    "pd.set_option('display.max_rows', 100)\n",
    "cols = ['start_time','end_time','cycle_time','Hyd','KSS','KSS_HD']\n",
    "df_data = pd.DataFrame(columns=cols)\n",
    "bins = MD_red['start_time'].dropna()\n",
    "df_data['start_time'] = bins\n",
    "df_data['start_time_shift'] = df_data['start_time'].shift(periods=-1)\n",
    "df_data.reset_index(drop=True,inplace=True)\n",
    "df_data"
   ]
  },
  {
   "cell_type": "code",
   "execution_count": null,
   "id": "722d045a",
   "metadata": {},
   "outputs": [],
   "source": [
    "stop_cycle = np.array(MD_red['end_time'][MD_red['end_time'].notnull()],dtype = 'datetime64[ns]')\n",
    "for x in range(len(stop_cycle)):\n",
    "    for i in range(len(df_data)):\n",
    "        if (stop_cycle[x] > np.array(df_data['start_time'])[i])&(stop_cycle[x] < np.array(df_data['start_time_shift'])[i]):        \n",
    "            df_data.loc[df_data['start_time']==np.array(df_data['start_time'])[i],'end_time'] = stop_cycle[x]\n",
    "df_data['end_time'] = pd.to_datetime(df_data['end_time'])\n",
    "df_data.drop('start_time_shift',axis=1,inplace=True)\n",
    "df_data['cycle_time'] = df_data['end_time'] - df_data['start_time']"
   ]
  },
  {
   "cell_type": "code",
   "execution_count": null,
   "id": "fef7f631",
   "metadata": {},
   "outputs": [],
   "source": [
    "df_data = df_data[~(df_data['cycle_time']<('0 days 00:04:30.749781805'))&~(df_data['cycle_time']>('0 days 00:06:00.749781805'))]\n",
    "df_data.reset_index(drop=True,inplace=True)\n",
    "df_data = df_data[df_data['cycle_time'].notnull()]\n",
    "df_data"
   ]
  },
  {
   "cell_type": "code",
   "execution_count": null,
   "id": "471d2b31",
   "metadata": {},
   "outputs": [],
   "source": [
    "start_bins = np.array(df_data['start_time'])\n",
    "end_bins = np.array(df_data['end_time'])\n",
    "\n",
    "# fill in KSS values\n",
    "df_data.loc[(start_bins < MD_KSS['sys_time'][0])&(end_bins > MD_KSS['sys_time'][0]),\"KSS\"] = MD_KSS['KSS'][0]\n",
    "df_data.loc[(start_bins < MD_KSS['sys_time'][1])&(end_bins > MD_KSS['sys_time'][1]),\"KSS\"] = MD_KSS['KSS'][1]\n",
    "df_data.loc[(start_bins < MD_KSS['sys_time'][2])&(end_bins > MD_KSS['sys_time'][2]),\"KSS\"] = MD_KSS['KSS'][2]\n",
    "df_data.loc[(start_bins < MD_KSS['sys_time'][3])&(end_bins > MD_KSS['sys_time'][3]),\"KSS\"] = MD_KSS['KSS'][3]\n",
    "df_data.loc[(start_bins < MD_KSS['sys_time'][4])&(end_bins > MD_KSS['sys_time'][4]),\"KSS\"] = MD_KSS['KSS'][4]\n",
    "df_data.loc[(start_bins < MD_KSS['sys_time'][5])&(end_bins > MD_KSS['sys_time'][5]),\"KSS\"] = MD_KSS['KSS'][5]\n",
    "df_data.loc[(start_bins < MD_KSS['sys_time'][6])&(end_bins > MD_KSS['sys_time'][6]),\"KSS\"] = MD_KSS['KSS'][6]\n",
    "df_data.loc[(start_bins < MD_KSS['sys_time'][7])&(end_bins > MD_KSS['sys_time'][7]),\"KSS\"] = MD_KSS['KSS'][7]\n",
    "df_data.loc[(start_bins < MD_KSS['sys_time'][8])&(end_bins > MD_KSS['sys_time'][8]),\"KSS\"] = MD_KSS['KSS'][8]\n",
    "df_data.loc[(start_bins < MD_KSS['sys_time'][9])&(end_bins > MD_KSS['sys_time'][9]),\"KSS\"] = MD_KSS['KSS'][9]\n",
    "df_data.loc[(start_bins < MD_KSS['sys_time'][10])&(end_bins > MD_KSS['sys_time'][10]),\"KSS\"] = MD_KSS['KSS'][10]\n",
    "df_data.loc[(start_bins < MD_KSS['sys_time'][11])&(end_bins > MD_KSS['sys_time'][11]),\"KSS\"] = MD_KSS['KSS'][11]\n",
    "df_data.loc[(start_bins < MD_KSS['sys_time'][12])&(end_bins > MD_KSS['sys_time'][12]),\"KSS\"] = MD_KSS['KSS'][12]\n",
    "df_data.loc[(start_bins < MD_KSS['sys_time'][13])&(end_bins > MD_KSS['sys_time'][13]),\"KSS\"] = MD_KSS['KSS'][13]\n",
    "df_data.loc[(start_bins < MD_KSS['sys_time'][14])&(end_bins > MD_KSS['sys_time'][14]),\"KSS\"] = MD_KSS['KSS'][14]\n",
    "df_data.loc[(start_bins < MD_KSS['sys_time'][15])&(end_bins > MD_KSS['sys_time'][15]),\"KSS\"] = MD_KSS['KSS'][15]\n",
    "df_data.loc[(start_bins < MD_KSS['sys_time'][16])&(end_bins > MD_KSS['sys_time'][16]),\"KSS\"] = MD_KSS['KSS'][16]\n",
    "df_data.loc[(start_bins < MD_KSS['sys_time'][17])&(end_bins > MD_KSS['sys_time'][17]),\"KSS\"] = MD_KSS['KSS'][17]\n",
    "df_data.loc[(start_bins < MD_KSS['sys_time'][18])&(end_bins > MD_KSS['sys_time'][18]),\"KSS\"] = MD_KSS['KSS'][18]\n",
    "df_data.loc[(start_bins < MD_KSS['sys_time'][19])&(end_bins > MD_KSS['sys_time'][19]),\"KSS\"] = MD_KSS['KSS'][19]\n",
    "df_data.loc[(start_bins < MD_KSS['sys_time'][20])&(end_bins > MD_KSS['sys_time'][20]),\"KSS\"] = MD_KSS['KSS'][20]\n",
    "df_data.loc[(start_bins < MD_KSS['sys_time'][21])&(end_bins > MD_KSS['sys_time'][21]),\"KSS\"] = MD_KSS['KSS'][21]\n",
    "df_data.loc[(start_bins < MD_KSS['sys_time'][22])&(end_bins > MD_KSS['sys_time'][22]),\"KSS\"] = MD_KSS['KSS'][22]\n",
    "df_data.loc[(start_bins < MD_KSS['sys_time'][23])&(end_bins > MD_KSS['sys_time'][23]),\"KSS\"] = MD_KSS['KSS'][23]\n",
    "df_data.loc[(start_bins < MD_KSS['sys_time'][24])&(end_bins > MD_KSS['sys_time'][24]),\"KSS\"] = MD_KSS['KSS'][24]\n",
    "df_data.loc[(start_bins < MD_KSS['sys_time'][25])&(end_bins > MD_KSS['sys_time'][25]),\"KSS\"] = MD_KSS['KSS'][25]\n",
    "df_data.loc[(start_bins < MD_KSS['sys_time'][26])&(end_bins > MD_KSS['sys_time'][26]),\"KSS\"] = MD_KSS['KSS'][26]\n",
    "df_data.loc[(start_bins < MD_KSS['sys_time'][27])&(end_bins > MD_KSS['sys_time'][27]),\"KSS\"] = MD_KSS['KSS'][27]\n",
    "df_data.loc[(start_bins < MD_KSS['sys_time'][28])&(end_bins > MD_KSS['sys_time'][28]),\"KSS\"] = MD_KSS['KSS'][28]\n",
    "\n",
    "# fill in KSS_HD values\n",
    "df_data.loc[(start_bins < MD_KSS_HD['sys_time'][0])&(end_bins > MD_KSS_HD['sys_time'][0]),\"KSS_HD\"] = MD_KSS_HD['KSS_HD'][0]\n",
    "df_data.loc[(start_bins < MD_KSS_HD['sys_time'][1])&(end_bins > MD_KSS_HD['sys_time'][1]),\"KSS_HD\"] = MD_KSS_HD['KSS_HD'][1]\n",
    "df_data.loc[(start_bins < MD_KSS_HD['sys_time'][2])&(end_bins > MD_KSS_HD['sys_time'][2]),\"KSS_HD\"] = MD_KSS_HD['KSS_HD'][2]\n",
    "df_data.loc[(start_bins < MD_KSS_HD['sys_time'][3])&(end_bins > MD_KSS_HD['sys_time'][3]),\"KSS_HD\"] = MD_KSS_HD['KSS_HD'][3]\n",
    "df_data.loc[(start_bins < MD_KSS_HD['sys_time'][4])&(end_bins > MD_KSS_HD['sys_time'][4]),\"KSS_HD\"] = MD_KSS_HD['KSS_HD'][4]\n",
    "df_data.loc[(start_bins < MD_KSS_HD['sys_time'][5])&(end_bins > MD_KSS_HD['sys_time'][5]),\"KSS_HD\"] = MD_KSS_HD['KSS_HD'][5]\n",
    "df_data.loc[(start_bins < MD_KSS_HD['sys_time'][6])&(end_bins > MD_KSS_HD['sys_time'][6]),\"KSS_HD\"] = MD_KSS_HD['KSS_HD'][6]\n",
    "df_data.loc[(start_bins < MD_KSS_HD['sys_time'][7])&(end_bins > MD_KSS_HD['sys_time'][7]),\"KSS_HD\"] = MD_KSS_HD['KSS_HD'][7]\n",
    "df_data.loc[(start_bins < MD_KSS_HD['sys_time'][8])&(end_bins > MD_KSS_HD['sys_time'][8]),\"KSS_HD\"] = MD_KSS_HD['KSS_HD'][8]\n",
    "df_data.loc[(start_bins < MD_KSS_HD['sys_time'][9])&(end_bins > MD_KSS_HD['sys_time'][9]),\"KSS_HD\"] = MD_KSS_HD['KSS_HD'][9]\n",
    "df_data.loc[(start_bins < MD_KSS_HD['sys_time'][10])&(end_bins > MD_KSS_HD['sys_time'][10]),\"KSS_HD\"] = MD_KSS_HD['KSS_HD'][10]\n",
    "df_data.loc[(start_bins < MD_KSS_HD['sys_time'][11])&(end_bins > MD_KSS_HD['sys_time'][11]),\"KSS_HD\"] = MD_KSS_HD['KSS_HD'][11]\n",
    "df_data.loc[(start_bins < MD_KSS_HD['sys_time'][12])&(end_bins > MD_KSS_HD['sys_time'][12]),\"KSS_HD\"] = MD_KSS_HD['KSS_HD'][12]\n",
    "df_data.loc[(start_bins < MD_KSS_HD['sys_time'][13])&(end_bins > MD_KSS_HD['sys_time'][13]),\"KSS_HD\"] = MD_KSS_HD['KSS_HD'][13]\n",
    "df_data.loc[(start_bins < MD_KSS_HD['sys_time'][14])&(end_bins > MD_KSS_HD['sys_time'][14]),\"KSS_HD\"] = MD_KSS_HD['KSS_HD'][14]\n",
    "df_data.loc[(start_bins < MD_KSS_HD['sys_time'][15])&(end_bins > MD_KSS_HD['sys_time'][15]),\"KSS_HD\"] = MD_KSS_HD['KSS_HD'][15]\n",
    "df_data.loc[(start_bins < MD_KSS_HD['sys_time'][16])&(end_bins > MD_KSS_HD['sys_time'][16]),\"KSS_HD\"] = MD_KSS_HD['KSS_HD'][16]\n",
    "df_data.loc[(start_bins < MD_KSS_HD['sys_time'][17])&(end_bins > MD_KSS_HD['sys_time'][17]),\"KSS_HD\"] = MD_KSS_HD['KSS_HD'][17]\n",
    "df_data.loc[(start_bins < MD_KSS_HD['sys_time'][18])&(end_bins > MD_KSS_HD['sys_time'][18]),\"KSS_HD\"] = MD_KSS_HD['KSS_HD'][18]\n",
    "df_data.loc[(start_bins < MD_KSS_HD['sys_time'][19])&(end_bins > MD_KSS_HD['sys_time'][19]),\"KSS_HD\"] = MD_KSS_HD['KSS_HD'][19]\n",
    "df_data.loc[(start_bins < MD_KSS_HD['sys_time'][20])&(end_bins > MD_KSS_HD['sys_time'][20]),\"KSS_HD\"] = MD_KSS_HD['KSS_HD'][20]\n",
    "df_data.loc[(start_bins < MD_KSS_HD['sys_time'][21])&(end_bins > MD_KSS_HD['sys_time'][21]),\"KSS_HD\"] = MD_KSS_HD['KSS_HD'][21]\n",
    "df_data.loc[(start_bins < MD_KSS_HD['sys_time'][22])&(end_bins > MD_KSS_HD['sys_time'][22]),\"KSS_HD\"] = MD_KSS_HD['KSS_HD'][22]\n",
    "df_data.loc[(start_bins < MD_KSS_HD['sys_time'][23])&(end_bins > MD_KSS_HD['sys_time'][23]),\"KSS_HD\"] = MD_KSS_HD['KSS_HD'][23]\n",
    "df_data.loc[(start_bins < MD_KSS_HD['sys_time'][24])&(end_bins > MD_KSS_HD['sys_time'][24]),\"KSS_HD\"] = MD_KSS_HD['KSS_HD'][24]"
   ]
  },
  {
   "cell_type": "code",
   "execution_count": null,
   "id": "d86fb816",
   "metadata": {},
   "outputs": [],
   "source": [
    "Hyd_values = []\n",
    "for i in range(len(start_bins)):\n",
    "    Hyd_value = np.array((MD_Hyd[(MD_Hyd['sys_time']>start_bins[i])&(MD_Hyd['sys_time']<end_bins[i])]['Hyd']))[0]\n",
    "    Hyd_values.append(Hyd_value)\n",
    "\n",
    "df_data['Hyd'] = np.array(Hyd_values)\n",
    "df_data['Hyd'] = df_data['Hyd'].shift(periods=-1)\n",
    "df_data.reset_index(drop=True,inplace=True)\n",
    "df_data"
   ]
  },
  {
   "cell_type": "markdown",
   "id": "d2c2d21a",
   "metadata": {},
   "source": [
    "3. Abgleich der ermittelten Datenpunkte mit den Kontrolldatenpunkten aus der Exceltabelle des Versuchsleiters\n",
    "- Bei gleichen Sollwerteinstellungen in aufeinanderfolgenden Takten, wird dies nicht in den Maschinendaten angezeigt\n",
    "- Werte können nach dem \"Forward-Fill\"-Prizip ergänzt werden\n",
    "- für den 28.4. ergeben sich 83 Datenpunkte"
   ]
  },
  {
   "cell_type": "code",
   "execution_count": null,
   "id": "63203619",
   "metadata": {},
   "outputs": [],
   "source": [
    "# Fill in values from table for 18.02.2021\n",
    "df_data.loc[0,\"KSS\"] = 50.0\n",
    "df_data.loc[1,\"KSS\"] = 42.0\n",
    "df_data.loc[2,\"KSS\"] = 42.0\n",
    "df_data.loc[0,\"KSS_HD\"] = 50.0\n",
    "df_data.loc[1,\"KSS_HD\"] = 33.0\n",
    "df_data.loc[2,\"KSS_HD\"] = 33.0\n",
    "df_data.loc[10,\"KSS_HD\"] = 33.0\n",
    "df_data.loc[13,\"KSS_HD\"] = 33.0\n",
    "df_data.loc[16,\"KSS_HD\"] = 33.0\n",
    "df_data.loc[27,\"KSS_HD\"] = 33.0\n",
    "df_data.loc[39,\"KSS_HD\"] = 33.0\n",
    "df_data.loc[45,\"KSS_HD\"] = 22.0\n",
    "df_data.loc[48,\"KSS_HD\"] = 22.0\n",
    "df_data.loc[51,\"KSS_HD\"] = 22.0\n",
    "df_data.loc[52,\"KSS_HD\"] = 22.0\n",
    "df_data.loc[55,\"KSS_HD\"] = 22.0\n",
    "df_data.loc[67,\"KSS_HD\"] = 33.0\n",
    "df_data.loc[76,\"KSS_HD\"] = 22.0\n",
    "df_data.loc[24,\"KSS\"] = 28.0\n",
    "df_data.loc[45,\"KSS\"] = 42.0\n",
    "df_data.loc[48,\"KSS\"] = 42.0\n",
    "df_data.loc[52,\"KSS\"] = 28.0\n",
    "df_data.loc[55,\"KSS\"] = 28.0\n",
    "df_data.loc[61,\"KSS\"] = 35.0\n",
    "df_data.loc[67,\"KSS\"] = 28.0\n",
    "\n",
    "df_data['KSS'].fillna(method='ffill',inplace=True)\n",
    "df_data['KSS_HD'].fillna(method='ffill',inplace=True)"
   ]
  },
  {
   "cell_type": "code",
   "execution_count": null,
   "id": "f467bd15",
   "metadata": {},
   "outputs": [],
   "source": [
    "df_data = df_data[~df_data['Hyd'].isnull()]\n",
    "df_data.reset_index(drop=True,inplace=True)\n",
    "df_data"
   ]
  },
  {
   "cell_type": "markdown",
   "id": "dbfd5b80",
   "metadata": {},
   "source": [
    "4. Konkatenierung mit den entsprechenden Energiedaten aus csv-file (Frequenz: 1Hz)\n",
    "- Aggregierung der Gesamtenergie mit der Funktion np.trapz für jedes Sample\n",
    "- (Hier im Beispiel werden die gesamten Zeitreihendaten betrachtet, mit Nullen gefüllt und auf eine Länge gebracht und mit im Dataframe abgespeichert)"
   ]
  },
  {
   "cell_type": "code",
   "execution_count": null,
   "id": "d1506001",
   "metadata": {},
   "outputs": [],
   "source": [
    "keys = [(np.array(df_data['start_time'])[i], np.array(df_data['end_time'])[i])for i in range(len(df_data))]\n",
    "energy_dict = {key:[]for key in keys}\n",
    "with open(os.path.join(energy_folder,'energy_'+date+'.csv'),encoding=\"utf-8\") as csvfile:\n",
    "    print(\"opening \",os.path.join(energy_folder,'energy_'+date+'.csv' ))\n",
    "    reader = csv.reader(csvfile, delimiter=';', quotechar='/')\n",
    "    next(reader)\n",
    "    next(reader)   \n",
    "    for line in reader:\n",
    "        for key in energy_dict:\n",
    "                        \n",
    "            if key[0] <= np.datetime64(datetime.datetime.strptime(line[0], '%d.%m.%Y %H:%M:%S')) <= key[1]:\n",
    "                    energy_dict[key].append(float(line[2].replace(',', '.')))\n",
    "cols =  ['start_time']+['end_time']+['energy_total']+list(range(int(df_data['cycle_time'].max().total_seconds())+1))\n",
    "array_total = []\n",
    "for key in energy_dict:\n",
    "    energy_points = energy_dict[key]\n",
    "    total_energy = np.trapz([float(i) for i in energy_points])\n",
    "    array_total.append([key[0]]+[key[1]]+[total_energy]+energy_dict[key])\n",
    "df_en_ts = pd.DataFrame(array_total, columns=cols)\n",
    "df_en_ts.fillna(0,inplace=True)"
   ]
  },
  {
   "cell_type": "code",
   "execution_count": null,
   "id": "94e274fa",
   "metadata": {},
   "outputs": [],
   "source": [
    "df_total = df_data.merge(df_en_ts, on=['start_time','end_time'], how='inner')"
   ]
  },
  {
   "cell_type": "code",
   "execution_count": null,
   "id": "36765077",
   "metadata": {},
   "outputs": [],
   "source": [
    "df_total.to_csv(os.path.join(dest_folder,date+'_total.csv'))\n",
    "print(\"saving \"+(os.path.join(dest_folder,date+'_total.csv')))"
   ]
  },
  {
   "cell_type": "code",
   "execution_count": 1,
   "id": "a6226f53",
   "metadata": {},
   "outputs": [
    {
     "data": {
      "text/plain": [
       "'C:\\\\Users\\\\Anni\\\\CS\\\\_BA\\\\ReLkat\\\\Alexandra'"
      ]
     },
     "execution_count": 1,
     "metadata": {},
     "output_type": "execute_result"
    }
   ],
   "source": [
    "%pwd"
   ]
  },
  {
   "cell_type": "code",
   "execution_count": null,
   "id": "7b49ee8d",
   "metadata": {},
   "outputs": [],
   "source": []
  }
 ],
 "metadata": {
  "kernelspec": {
   "display_name": "Python 3",
   "language": "python",
   "name": "python3"
  },
  "language_info": {
   "codemirror_mode": {
    "name": "ipython",
    "version": 3
   },
   "file_extension": ".py",
   "mimetype": "text/x-python",
   "name": "python",
   "nbconvert_exporter": "python",
   "pygments_lexer": "ipython3",
   "version": "3.8.8"
  }
 },
 "nbformat": 4,
 "nbformat_minor": 5
}
